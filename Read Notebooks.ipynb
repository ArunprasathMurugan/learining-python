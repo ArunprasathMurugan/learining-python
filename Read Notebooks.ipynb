{
 "cells": [
  {
   "cell_type": "code",
   "execution_count": null,
   "metadata": {},
   "outputs": [],
   "source": [
    "import json\n",
    "with open('Random.ipynb') as data_file:    \n",
    "    data = json.load(data_file)"
   ]
  },
  {
   "cell_type": "code",
   "execution_count": null,
   "metadata": {},
   "outputs": [],
   "source": [
    "# display(data)"
   ]
  },
  {
   "cell_type": "code",
   "execution_count": null,
   "metadata": {},
   "outputs": [],
   "source": [
    "print(data['metadata']['language_info']['version'])\n",
    "# for cell in data['cells']:\n",
    "#     print(cell)\n",
    "#     if cell['cell_type'] == 'code':\n",
    "#         pass"
   ]
  },
  {
   "cell_type": "code",
   "execution_count": null,
   "metadata": {},
   "outputs": [],
   "source": [
    "def remove_output(model, **kwargs):\n",
    "    if model['type'] != 'notebook':\n",
    "        return\n",
    "    model['metadata']['language_info']['version']=None\n",
    "    for cell in model['content']['cells']:\n",
    "        if cell['cell_type'] == 'code':\n",
    "            cell['execution_count'] = None\n",
    "            cell['outputs'] = []\n",
    "            if \"prompt_number\" in cell:\n",
    "                del cell[\"prompt_number\"]            "
   ]
  },
  {
   "cell_type": "code",
   "execution_count": null,
   "metadata": {},
   "outputs": [],
   "source": [
    "import sys\n",
    "import io\n",
    "import os\n",
    "from IPython.nbformat.current import read, write\n",
    "\n",
    "def _cells(nb):\n",
    "    \"\"\"Yield all cells in an nbformat-insensitive manner\"\"\"\n",
    "    if nb.nbformat < 4:\n",
    "        for ws in nb.worksheets:\n",
    "            for cell in ws.cells:\n",
    "                yield cell\n",
    "    else:\n",
    "        for cell in nb.cells:\n",
    "            yield cell\n",
    "            \n",
    "def strip_output(nb):\n",
    "    \"\"\"strip the outputs from a notebook object\"\"\"\n",
    "    nb.metadata.pop('signature', None)\n",
    "    for cell in _cells(nb):\n",
    "        if 'outputs' in cell:\n",
    "            cell['outputs'] = []\n",
    "        if 'prompt_number' in cell:\n",
    "            cell['prompt_number'] = None\n",
    "        # Always remove this metadata\n",
    "        for output_style in ['collapsed', 'scrolled']:\n",
    "            if output_style in cell.metadata:\n",
    "                cell.metadata[output_style] = False\n",
    "        if 'metadata' in cell:\n",
    "            for field in ['collapsed', 'scrolled', 'ExecuteTime']:\n",
    "                cell.metadata.pop(field, None)    \n",
    "    nb['metadata']['language_info']['version']=None                    \n",
    "    #print(nb.metadata.pop('language_info', None))\n",
    "    return nb   \n",
    "\n",
    "if __name__ == '__main__':\n",
    "    fname = 'Random.ipynb'\n",
    "    with io.open(fname, 'r') as f:\n",
    "        nb = read(f, 'json')\n",
    "    strip_output(nb)\n",
    "    display(nb)"
   ]
  },
  {
   "cell_type": "code",
   "execution_count": null,
   "metadata": {},
   "outputs": [],
   "source": []
  }
 ],
 "metadata": {
  "kernelspec": {
   "display_name": "Python 3",
   "language": "python",
   "name": "python3"
  },
  "language_info": {
   "codemirror_mode": {
    "name": "ipython",
    "version": 3
   },
   "file_extension": ".py",
   "mimetype": "text/x-python",
   "name": "python",
   "nbconvert_exporter": "python",
   "pygments_lexer": "ipython3",
   "version": "3.6.3"
  }
 },
 "nbformat": 4,
 "nbformat_minor": 2
}
